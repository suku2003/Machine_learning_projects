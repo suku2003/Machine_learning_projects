{
  "cells": [
    {
      "cell_type": "markdown",
      "metadata": {
        "id": "4kfhLvGznBry"
      },
      "source": [
        "# PROBLEM STATEMENT"
      ]
    },
    {
      "cell_type": "markdown",
      "metadata": {
        "id": "fjGDrJdknBrz"
      },
      "source": [
        "Let's assume that we work as a consultant to a start-up company that was looking to develop a model to estimate the cost of good sold as they vary the production volume (number of units produced). The startup gathered data and has asked us to develop a model to predict its cost vs. number of units sold. We thought a polynomial regression model might be a good candidate."
      ]
    },
    {
      "cell_type": "markdown",
      "metadata": {
        "id": "I9A_qkvunBrz"
      },
      "source": [
        "# STEP#1: IMPORT LIBRARIES"
      ]
    },
    {
      "cell_type": "code",
      "execution_count": null,
      "metadata": {
        "id": "FL3ZkXJpnBr0"
      },
      "outputs": [],
      "source": [
        "import pandas as pd\n",
        "import numpy as np\n",
        "import matplotlib.pyplot as plt\n",
        "import seaborn as sns"
      ]
    },
    {
      "cell_type": "markdown",
      "metadata": {
        "id": "-d3HHKLtnBr1"
      },
      "source": [
        "# STEP#2: IMPORT DATASET"
      ]
    },
    {
      "cell_type": "code",
      "execution_count": null,
      "metadata": {
        "id": "KJd4ht76nBr1"
      },
      "outputs": [],
      "source": [
        "cost_df = pd.read_csv(\"EconomiesOfScale.csv\")"
      ]
    },
    {
      "cell_type": "code",
      "execution_count": null,
      "metadata": {
        "id": "qhgVe3iUnBr1",
        "outputId": "ad69b831-7e5a-4ff6-ac3b-ecb1cd30726a"
      },
      "outputs": [
        {
          "data": {
            "text/html": [
              "<div>\n",
              "<style scoped>\n",
              "    .dataframe tbody tr th:only-of-type {\n",
              "        vertical-align: middle;\n",
              "    }\n",
              "\n",
              "    .dataframe tbody tr th {\n",
              "        vertical-align: top;\n",
              "    }\n",
              "\n",
              "    .dataframe thead th {\n",
              "        text-align: right;\n",
              "    }\n",
              "</style>\n",
              "<table border=\"1\" class=\"dataframe\">\n",
              "  <thead>\n",
              "    <tr style=\"text-align: right;\">\n",
              "      <th></th>\n",
              "      <th>Number of Units</th>\n",
              "      <th>Manufacturing Cost</th>\n",
              "    </tr>\n",
              "  </thead>\n",
              "  <tbody>\n",
              "    <tr>\n",
              "      <th>0</th>\n",
              "      <td>1.000000</td>\n",
              "      <td>95.066056</td>\n",
              "    </tr>\n",
              "    <tr>\n",
              "      <th>1</th>\n",
              "      <td>1.185994</td>\n",
              "      <td>96.531750</td>\n",
              "    </tr>\n",
              "    <tr>\n",
              "      <th>2</th>\n",
              "      <td>1.191499</td>\n",
              "      <td>73.661311</td>\n",
              "    </tr>\n",
              "    <tr>\n",
              "      <th>3</th>\n",
              "      <td>1.204771</td>\n",
              "      <td>95.566843</td>\n",
              "    </tr>\n",
              "    <tr>\n",
              "      <th>4</th>\n",
              "      <td>1.298773</td>\n",
              "      <td>98.777013</td>\n",
              "    </tr>\n",
              "    <tr>\n",
              "      <th>5</th>\n",
              "      <td>1.307435</td>\n",
              "      <td>100.000000</td>\n",
              "    </tr>\n",
              "    <tr>\n",
              "      <th>6</th>\n",
              "      <td>1.339386</td>\n",
              "      <td>94.759756</td>\n",
              "    </tr>\n",
              "    <tr>\n",
              "      <th>7</th>\n",
              "      <td>1.379044</td>\n",
              "      <td>67.185383</td>\n",
              "    </tr>\n",
              "    <tr>\n",
              "      <th>8</th>\n",
              "      <td>1.420000</td>\n",
              "      <td>72.886041</td>\n",
              "    </tr>\n",
              "    <tr>\n",
              "      <th>9</th>\n",
              "      <td>1.473948</td>\n",
              "      <td>61.967696</td>\n",
              "    </tr>\n",
              "    <tr>\n",
              "      <th>10</th>\n",
              "      <td>1.540898</td>\n",
              "      <td>69.284097</td>\n",
              "    </tr>\n",
              "    <tr>\n",
              "      <th>11</th>\n",
              "      <td>1.574600</td>\n",
              "      <td>64.552496</td>\n",
              "    </tr>\n",
              "    <tr>\n",
              "      <th>12</th>\n",
              "      <td>1.620310</td>\n",
              "      <td>77.679377</td>\n",
              "    </tr>\n",
              "    <tr>\n",
              "      <th>13</th>\n",
              "      <td>1.631997</td>\n",
              "      <td>58.426645</td>\n",
              "    </tr>\n",
              "    <tr>\n",
              "      <th>14</th>\n",
              "      <td>1.652687</td>\n",
              "      <td>51.440970</td>\n",
              "    </tr>\n",
              "    <tr>\n",
              "      <th>15</th>\n",
              "      <td>1.695801</td>\n",
              "      <td>60.929036</td>\n",
              "    </tr>\n",
              "    <tr>\n",
              "      <th>16</th>\n",
              "      <td>1.704214</td>\n",
              "      <td>81.867756</td>\n",
              "    </tr>\n",
              "    <tr>\n",
              "      <th>17</th>\n",
              "      <td>1.739201</td>\n",
              "      <td>60.572597</td>\n",
              "    </tr>\n",
              "    <tr>\n",
              "      <th>18</th>\n",
              "      <td>1.760146</td>\n",
              "      <td>74.122601</td>\n",
              "    </tr>\n",
              "    <tr>\n",
              "      <th>19</th>\n",
              "      <td>1.767002</td>\n",
              "      <td>71.614173</td>\n",
              "    </tr>\n",
              "    <tr>\n",
              "      <th>20</th>\n",
              "      <td>1.777280</td>\n",
              "      <td>77.983409</td>\n",
              "    </tr>\n",
              "    <tr>\n",
              "      <th>21</th>\n",
              "      <td>1.784342</td>\n",
              "      <td>57.681940</td>\n",
              "    </tr>\n",
              "    <tr>\n",
              "      <th>22</th>\n",
              "      <td>1.802089</td>\n",
              "      <td>52.964408</td>\n",
              "    </tr>\n",
              "    <tr>\n",
              "      <th>23</th>\n",
              "      <td>1.815917</td>\n",
              "      <td>69.178731</td>\n",
              "    </tr>\n",
              "    <tr>\n",
              "      <th>24</th>\n",
              "      <td>1.823289</td>\n",
              "      <td>70.420052</td>\n",
              "    </tr>\n",
              "    <tr>\n",
              "      <th>25</th>\n",
              "      <td>1.831097</td>\n",
              "      <td>36.085800</td>\n",
              "    </tr>\n",
              "    <tr>\n",
              "      <th>26</th>\n",
              "      <td>1.832407</td>\n",
              "      <td>81.494692</td>\n",
              "    </tr>\n",
              "    <tr>\n",
              "      <th>27</th>\n",
              "      <td>1.842876</td>\n",
              "      <td>59.640680</td>\n",
              "    </tr>\n",
              "    <tr>\n",
              "      <th>28</th>\n",
              "      <td>1.845841</td>\n",
              "      <td>63.409549</td>\n",
              "    </tr>\n",
              "    <tr>\n",
              "      <th>29</th>\n",
              "      <td>1.865228</td>\n",
              "      <td>55.036139</td>\n",
              "    </tr>\n",
              "    <tr>\n",
              "      <th>...</th>\n",
              "      <td>...</td>\n",
              "      <td>...</td>\n",
              "    </tr>\n",
              "    <tr>\n",
              "      <th>70</th>\n",
              "      <td>2.565105</td>\n",
              "      <td>39.704978</td>\n",
              "    </tr>\n",
              "    <tr>\n",
              "      <th>71</th>\n",
              "      <td>2.566028</td>\n",
              "      <td>55.103556</td>\n",
              "    </tr>\n",
              "    <tr>\n",
              "      <th>72</th>\n",
              "      <td>2.575527</td>\n",
              "      <td>53.388272</td>\n",
              "    </tr>\n",
              "    <tr>\n",
              "      <th>73</th>\n",
              "      <td>2.577462</td>\n",
              "      <td>69.292937</td>\n",
              "    </tr>\n",
              "    <tr>\n",
              "      <th>74</th>\n",
              "      <td>2.583309</td>\n",
              "      <td>52.766478</td>\n",
              "    </tr>\n",
              "    <tr>\n",
              "      <th>75</th>\n",
              "      <td>2.591418</td>\n",
              "      <td>52.307217</td>\n",
              "    </tr>\n",
              "    <tr>\n",
              "      <th>76</th>\n",
              "      <td>2.601150</td>\n",
              "      <td>55.569431</td>\n",
              "    </tr>\n",
              "    <tr>\n",
              "      <th>77</th>\n",
              "      <td>2.603803</td>\n",
              "      <td>46.461065</td>\n",
              "    </tr>\n",
              "    <tr>\n",
              "      <th>78</th>\n",
              "      <td>2.622320</td>\n",
              "      <td>53.394517</td>\n",
              "    </tr>\n",
              "    <tr>\n",
              "      <th>79</th>\n",
              "      <td>2.625373</td>\n",
              "      <td>51.897588</td>\n",
              "    </tr>\n",
              "    <tr>\n",
              "      <th>80</th>\n",
              "      <td>2.646551</td>\n",
              "      <td>47.510528</td>\n",
              "    </tr>\n",
              "    <tr>\n",
              "      <th>81</th>\n",
              "      <td>2.649751</td>\n",
              "      <td>52.882813</td>\n",
              "    </tr>\n",
              "    <tr>\n",
              "      <th>82</th>\n",
              "      <td>2.665856</td>\n",
              "      <td>48.578425</td>\n",
              "    </tr>\n",
              "    <tr>\n",
              "      <th>83</th>\n",
              "      <td>2.672300</td>\n",
              "      <td>49.030499</td>\n",
              "    </tr>\n",
              "    <tr>\n",
              "      <th>84</th>\n",
              "      <td>2.673640</td>\n",
              "      <td>50.402065</td>\n",
              "    </tr>\n",
              "    <tr>\n",
              "      <th>85</th>\n",
              "      <td>2.683485</td>\n",
              "      <td>48.300653</td>\n",
              "    </tr>\n",
              "    <tr>\n",
              "      <th>86</th>\n",
              "      <td>2.691826</td>\n",
              "      <td>46.854139</td>\n",
              "    </tr>\n",
              "    <tr>\n",
              "      <th>87</th>\n",
              "      <td>2.695351</td>\n",
              "      <td>53.150930</td>\n",
              "    </tr>\n",
              "    <tr>\n",
              "      <th>88</th>\n",
              "      <td>2.704341</td>\n",
              "      <td>54.432536</td>\n",
              "    </tr>\n",
              "    <tr>\n",
              "      <th>89</th>\n",
              "      <td>2.714094</td>\n",
              "      <td>61.154604</td>\n",
              "    </tr>\n",
              "    <tr>\n",
              "      <th>90</th>\n",
              "      <td>2.715138</td>\n",
              "      <td>35.040318</td>\n",
              "    </tr>\n",
              "    <tr>\n",
              "      <th>91</th>\n",
              "      <td>2.730011</td>\n",
              "      <td>52.318337</td>\n",
              "    </tr>\n",
              "    <tr>\n",
              "      <th>92</th>\n",
              "      <td>2.741250</td>\n",
              "      <td>54.327159</td>\n",
              "    </tr>\n",
              "    <tr>\n",
              "      <th>93</th>\n",
              "      <td>2.756427</td>\n",
              "      <td>46.838555</td>\n",
              "    </tr>\n",
              "    <tr>\n",
              "      <th>94</th>\n",
              "      <td>2.759568</td>\n",
              "      <td>55.564663</td>\n",
              "    </tr>\n",
              "    <tr>\n",
              "      <th>95</th>\n",
              "      <td>2.761981</td>\n",
              "      <td>48.258282</td>\n",
              "    </tr>\n",
              "    <tr>\n",
              "      <th>96</th>\n",
              "      <td>2.762052</td>\n",
              "      <td>50.216171</td>\n",
              "    </tr>\n",
              "    <tr>\n",
              "      <th>97</th>\n",
              "      <td>2.763321</td>\n",
              "      <td>63.478275</td>\n",
              "    </tr>\n",
              "    <tr>\n",
              "      <th>98</th>\n",
              "      <td>2.766303</td>\n",
              "      <td>58.190435</td>\n",
              "    </tr>\n",
              "    <tr>\n",
              "      <th>99</th>\n",
              "      <td>2.768717</td>\n",
              "      <td>52.782414</td>\n",
              "    </tr>\n",
              "  </tbody>\n",
              "</table>\n",
              "<p>100 rows × 2 columns</p>\n",
              "</div>"
            ],
            "text/plain": [
              "    Number of Units  Manufacturing Cost\n",
              "0          1.000000           95.066056\n",
              "1          1.185994           96.531750\n",
              "2          1.191499           73.661311\n",
              "3          1.204771           95.566843\n",
              "4          1.298773           98.777013\n",
              "5          1.307435          100.000000\n",
              "6          1.339386           94.759756\n",
              "7          1.379044           67.185383\n",
              "8          1.420000           72.886041\n",
              "9          1.473948           61.967696\n",
              "10         1.540898           69.284097\n",
              "11         1.574600           64.552496\n",
              "12         1.620310           77.679377\n",
              "13         1.631997           58.426645\n",
              "14         1.652687           51.440970\n",
              "15         1.695801           60.929036\n",
              "16         1.704214           81.867756\n",
              "17         1.739201           60.572597\n",
              "18         1.760146           74.122601\n",
              "19         1.767002           71.614173\n",
              "20         1.777280           77.983409\n",
              "21         1.784342           57.681940\n",
              "22         1.802089           52.964408\n",
              "23         1.815917           69.178731\n",
              "24         1.823289           70.420052\n",
              "25         1.831097           36.085800\n",
              "26         1.832407           81.494692\n",
              "27         1.842876           59.640680\n",
              "28         1.845841           63.409549\n",
              "29         1.865228           55.036139\n",
              "..              ...                 ...\n",
              "70         2.565105           39.704978\n",
              "71         2.566028           55.103556\n",
              "72         2.575527           53.388272\n",
              "73         2.577462           69.292937\n",
              "74         2.583309           52.766478\n",
              "75         2.591418           52.307217\n",
              "76         2.601150           55.569431\n",
              "77         2.603803           46.461065\n",
              "78         2.622320           53.394517\n",
              "79         2.625373           51.897588\n",
              "80         2.646551           47.510528\n",
              "81         2.649751           52.882813\n",
              "82         2.665856           48.578425\n",
              "83         2.672300           49.030499\n",
              "84         2.673640           50.402065\n",
              "85         2.683485           48.300653\n",
              "86         2.691826           46.854139\n",
              "87         2.695351           53.150930\n",
              "88         2.704341           54.432536\n",
              "89         2.714094           61.154604\n",
              "90         2.715138           35.040318\n",
              "91         2.730011           52.318337\n",
              "92         2.741250           54.327159\n",
              "93         2.756427           46.838555\n",
              "94         2.759568           55.564663\n",
              "95         2.761981           48.258282\n",
              "96         2.762052           50.216171\n",
              "97         2.763321           63.478275\n",
              "98         2.766303           58.190435\n",
              "99         2.768717           52.782414\n",
              "\n",
              "[100 rows x 2 columns]"
            ]
          },
          "execution_count": 3,
          "metadata": {},
          "output_type": "execute_result"
        }
      ],
      "source": [
        "cost_df.head(100)"
      ]
    },
    {
      "cell_type": "code",
      "execution_count": null,
      "metadata": {
        "id": "mGN-hbm9nBr2",
        "outputId": "73685e6e-a1c4-4ceb-eab8-83b41e1bba75",
        "scrolled": true
      },
      "outputs": [
        {
          "data": {
            "text/html": [
              "<div>\n",
              "<style scoped>\n",
              "    .dataframe tbody tr th:only-of-type {\n",
              "        vertical-align: middle;\n",
              "    }\n",
              "\n",
              "    .dataframe tbody tr th {\n",
              "        vertical-align: top;\n",
              "    }\n",
              "\n",
              "    .dataframe thead th {\n",
              "        text-align: right;\n",
              "    }\n",
              "</style>\n",
              "<table border=\"1\" class=\"dataframe\">\n",
              "  <thead>\n",
              "    <tr style=\"text-align: right;\">\n",
              "      <th></th>\n",
              "      <th>Number of Units</th>\n",
              "      <th>Manufacturing Cost</th>\n",
              "    </tr>\n",
              "  </thead>\n",
              "  <tbody>\n",
              "    <tr>\n",
              "      <th>995</th>\n",
              "      <td>8.099710</td>\n",
              "      <td>23.855067</td>\n",
              "    </tr>\n",
              "    <tr>\n",
              "      <th>996</th>\n",
              "      <td>8.739752</td>\n",
              "      <td>27.536542</td>\n",
              "    </tr>\n",
              "    <tr>\n",
              "      <th>997</th>\n",
              "      <td>8.780888</td>\n",
              "      <td>25.973787</td>\n",
              "    </tr>\n",
              "    <tr>\n",
              "      <th>998</th>\n",
              "      <td>8.897700</td>\n",
              "      <td>25.138311</td>\n",
              "    </tr>\n",
              "    <tr>\n",
              "      <th>999</th>\n",
              "      <td>10.000000</td>\n",
              "      <td>21.547777</td>\n",
              "    </tr>\n",
              "  </tbody>\n",
              "</table>\n",
              "</div>"
            ],
            "text/plain": [
              "     Number of Units  Manufacturing Cost\n",
              "995         8.099710           23.855067\n",
              "996         8.739752           27.536542\n",
              "997         8.780888           25.973787\n",
              "998         8.897700           25.138311\n",
              "999        10.000000           21.547777"
            ]
          },
          "execution_count": 4,
          "metadata": {},
          "output_type": "execute_result"
        }
      ],
      "source": [
        "cost_df.tail()"
      ]
    },
    {
      "cell_type": "code",
      "execution_count": null,
      "metadata": {
        "id": "W06GDDPYnBr3",
        "outputId": "4b16d085-3255-412f-9f26-3d515f6711aa"
      },
      "outputs": [
        {
          "data": {
            "text/html": [
              "<div>\n",
              "<style scoped>\n",
              "    .dataframe tbody tr th:only-of-type {\n",
              "        vertical-align: middle;\n",
              "    }\n",
              "\n",
              "    .dataframe tbody tr th {\n",
              "        vertical-align: top;\n",
              "    }\n",
              "\n",
              "    .dataframe thead th {\n",
              "        text-align: right;\n",
              "    }\n",
              "</style>\n",
              "<table border=\"1\" class=\"dataframe\">\n",
              "  <thead>\n",
              "    <tr style=\"text-align: right;\">\n",
              "      <th></th>\n",
              "      <th>Number of Units</th>\n",
              "      <th>Manufacturing Cost</th>\n",
              "    </tr>\n",
              "  </thead>\n",
              "  <tbody>\n",
              "    <tr>\n",
              "      <th>count</th>\n",
              "      <td>1000.000000</td>\n",
              "      <td>1000.000000</td>\n",
              "    </tr>\n",
              "    <tr>\n",
              "      <th>mean</th>\n",
              "      <td>4.472799</td>\n",
              "      <td>40.052999</td>\n",
              "    </tr>\n",
              "    <tr>\n",
              "      <th>std</th>\n",
              "      <td>1.336241</td>\n",
              "      <td>10.595322</td>\n",
              "    </tr>\n",
              "    <tr>\n",
              "      <th>min</th>\n",
              "      <td>1.000000</td>\n",
              "      <td>20.000000</td>\n",
              "    </tr>\n",
              "    <tr>\n",
              "      <th>25%</th>\n",
              "      <td>3.594214</td>\n",
              "      <td>32.912036</td>\n",
              "    </tr>\n",
              "    <tr>\n",
              "      <th>50%</th>\n",
              "      <td>4.435958</td>\n",
              "      <td>38.345781</td>\n",
              "    </tr>\n",
              "    <tr>\n",
              "      <th>75%</th>\n",
              "      <td>5.324780</td>\n",
              "      <td>44.531822</td>\n",
              "    </tr>\n",
              "    <tr>\n",
              "      <th>max</th>\n",
              "      <td>10.000000</td>\n",
              "      <td>100.000000</td>\n",
              "    </tr>\n",
              "  </tbody>\n",
              "</table>\n",
              "</div>"
            ],
            "text/plain": [
              "       Number of Units  Manufacturing Cost\n",
              "count      1000.000000         1000.000000\n",
              "mean          4.472799           40.052999\n",
              "std           1.336241           10.595322\n",
              "min           1.000000           20.000000\n",
              "25%           3.594214           32.912036\n",
              "50%           4.435958           38.345781\n",
              "75%           5.324780           44.531822\n",
              "max          10.000000          100.000000"
            ]
          },
          "execution_count": 5,
          "metadata": {},
          "output_type": "execute_result"
        }
      ],
      "source": [
        "cost_df.describe()"
      ]
    },
    {
      "cell_type": "code",
      "execution_count": null,
      "metadata": {
        "id": "H7SbmzcKnBr3",
        "outputId": "b0be7b73-57f6-405a-edc4-a093e90d00ce",
        "scrolled": true
      },
      "outputs": [
        {
          "name": "stdout",
          "output_type": "stream",
          "text": [
            "<class 'pandas.core.frame.DataFrame'>\n",
            "RangeIndex: 1000 entries, 0 to 999\n",
            "Data columns (total 2 columns):\n",
            "Number of Units       1000 non-null float64\n",
            "Manufacturing Cost    1000 non-null float64\n",
            "dtypes: float64(2)\n",
            "memory usage: 15.7 KB\n"
          ]
        }
      ],
      "source": [
        "cost_df.info()"
      ]
    },
    {
      "cell_type": "markdown",
      "metadata": {
        "id": "5bvcGy0inBr3"
      },
      "source": [
        "# STEP#3: VISUALIZE DATASET"
      ]
    },
    {
      "cell_type": "code",
      "execution_count": null,
      "metadata": {
        "id": "Fqi0sFs6nBr3",
        "outputId": "5699314e-89fc-4391-89d4-f478195806d6",
        "scrolled": false
      },
      "outputs": [
        {
          "data": {
            "text/plain": [
              "<seaborn.axisgrid.JointGrid at 0x12f2d730cf8>"
            ]
          },
          "execution_count": 7,
          "metadata": {},
          "output_type": "execute_result"
        },
        {
          "data": {
            "image/png": "[encoded data removed]",
            "text/plain": [
              "<Figure size 432x432 with 3 Axes>"
            ]
          },
          "metadata": {},
          "output_type": "display_data"
        }
      ],
      "source": [
        "sns.jointplot(x='Number of Units', y='Manufacturing Cost', data = cost_df)"
      ]
    },
    {
      "cell_type": "code",
      "execution_count": null,
      "metadata": {
        "id": "mX_pWM9_nBr4",
        "outputId": "fa066a33-09d5-4463-ae50-9fb83590a5a9"
      },
      "outputs": [
        {
          "data": {
            "text/plain": [
              "<seaborn.axisgrid.FacetGrid at 0x12f2d89c630>"
            ]
          },
          "execution_count": 8,
          "metadata": {},
          "output_type": "execute_result"
        },
        {
          "data": {
            "image/png": "[encoded data removed]",
            "text/plain": [
              "<Figure size 360x360 with 1 Axes>"
            ]
          },
          "metadata": {},
          "output_type": "display_data"
        }
      ],
      "source": [
        "sns.lmplot(x='Number of Units', y='Manufacturing Cost', data=cost_df)"
      ]
    },
    {
      "cell_type": "markdown",
      "metadata": {
        "id": "U1zGM2yMnBr4"
      },
      "source": [
        "# STEP#4: CREATE TRAINING DATASET"
      ]
    },
    {
      "cell_type": "code",
      "execution_count": null,
      "metadata": {
        "id": "7Osm21CznBr4"
      },
      "outputs": [],
      "source": [
        "X = cost_df[['Number of Units']]"
      ]
    },
    {
      "cell_type": "code",
      "execution_count": null,
      "metadata": {
        "id": "jdVj5XgznBr4"
      },
      "outputs": [],
      "source": [
        "y = cost_df['Manufacturing Cost']"
      ]
    },
    {
      "cell_type": "code",
      "execution_count": null,
      "metadata": {
        "id": "WobQtG9knBr4"
      },
      "outputs": [],
      "source": [
        "# Note that we used the entire dataset for training only\n",
        "X_train = X\n",
        "y_train = y"
      ]
    },
    {
      "cell_type": "markdown",
      "metadata": {
        "id": "NzW4CNfBnBr5"
      },
      "source": [
        "# (SOLUTION #1: LINEAR ASSUMPTION)"
      ]
    },
    {
      "cell_type": "markdown",
      "metadata": {
        "id": "TqvAitmwnBr5"
      },
      "source": [
        "# STEP#5 MODEL TRAINING"
      ]
    },
    {
      "cell_type": "code",
      "execution_count": null,
      "metadata": {
        "id": "9icUCGOsnBr5",
        "outputId": "eadb8077-f5fe-4e55-ba23-a644984f48ea",
        "scrolled": false
      },
      "outputs": [
        {
          "data": {
            "text/plain": [
              "(1000,)"
            ]
          },
          "execution_count": 12,
          "metadata": {},
          "output_type": "execute_result"
        }
      ],
      "source": [
        "y_train.shape"
      ]
    },
    {
      "cell_type": "code",
      "execution_count": null,
      "metadata": {
        "id": "zj3LnosonBr5",
        "outputId": "d0bf62f0-dbd7-4ced-d821-49c4de24142d"
      },
      "outputs": [
        {
          "data": {
            "text/plain": [
              "(1000, 1)"
            ]
          },
          "execution_count": 13,
          "metadata": {},
          "output_type": "execute_result"
        }
      ],
      "source": [
        "X_train.shape"
      ]
    },
    {
      "cell_type": "code",
      "execution_count": null,
      "metadata": {
        "id": "soWqwFhRnBr5"
      },
      "outputs": [],
      "source": [
        "from sklearn.linear_model import LinearRegression"
      ]
    },
    {
      "cell_type": "code",
      "execution_count": null,
      "metadata": {
        "id": "gf4pYHZSnBr5"
      },
      "outputs": [],
      "source": [
        "regressor = LinearRegression(fit_intercept =True)"
      ]
    },
    {
      "cell_type": "code",
      "execution_count": null,
      "metadata": {
        "id": "ifF5fpwbnBr6",
        "outputId": "9e871b66-669f-4aef-adc7-49b4533b94c9"
      },
      "outputs": [
        {
          "data": {
            "text/plain": [
              "LinearRegression(copy_X=True, fit_intercept=True, n_jobs=1, normalize=False)"
            ]
          },
          "execution_count": 16,
          "metadata": {},
          "output_type": "execute_result"
        }
      ],
      "source": [
        "regressor.fit(X_train,y_train)"
      ]
    },
    {
      "cell_type": "code",
      "execution_count": null,
      "metadata": {
        "id": "VDfWmdUVnBr6",
        "outputId": "79b3b643-cc03-4259-c014-ac6a5e393579"
      },
      "outputs": [
        {
          "name": "stdout",
          "output_type": "stream",
          "text": [
            "Model Coefficient:  [-6.0333683]\n"
          ]
        }
      ],
      "source": [
        "print('Model Coefficient: ', regressor.coef_)\n"
      ]
    },
    {
      "cell_type": "markdown",
      "metadata": {
        "id": "0qGEoYSinBr6"
      },
      "source": [
        "# STEP#6: VISUALIZE THE RESULTS"
      ]
    },
    {
      "cell_type": "code",
      "execution_count": null,
      "metadata": {
        "id": "HeB07_t8nBr6",
        "outputId": "c4e395dc-c9b4-459d-fa54-0fa26fd114af"
      },
      "outputs": [
        {
          "data": {
            "text/plain": [
              "Text(0.5,1,'Unit Cost vs. Number of Units [in Millions](Training dataset)')"
            ]
          },
          "execution_count": 18,
          "metadata": {},
          "output_type": "execute_result"
        },
        {
          "data": {
            "image/png": "[encoded data removed]",
            "text/plain": [
              "<Figure size 432x288 with 1 Axes>"
            ]
          },
          "metadata": {},
          "output_type": "display_data"
        }
      ],
      "source": [
        "plt.scatter(X_train, y_train, color = 'red')\n",
        "plt.plot(X_train, regressor.predict(X_train), color = 'blue')\n",
        "plt.ylabel('Cost Per Unit Sold [dollars]')\n",
        "plt.xlabel('Number of Units [in Millions]')\n",
        "plt.title('Unit Cost vs. Number of Units [in Millions](Training dataset)')"
      ]
    },
    {
      "cell_type": "markdown",
      "metadata": {
        "id": "6cTdyE6znBr7"
      },
      "source": [
        "# (SOLUTION #2: POLYNOMIAL ASSUMPTION)"
      ]
    },
    {
      "cell_type": "markdown",
      "metadata": {
        "id": "sF1TL4j8nBr7"
      },
      "source": [
        "# STEP#5 MODEL TRAINING"
      ]
    },
    {
      "cell_type": "code",
      "execution_count": null,
      "metadata": {
        "id": "J6i_tDrnnBr7"
      },
      "outputs": [],
      "source": [
        "from sklearn.preprocessing import PolynomialFeatures\n",
        "poly_regressor = PolynomialFeatures(degree=4)\n",
        "# import a class and instantiate an object from that class\n"
      ]
    },
    {
      "cell_type": "code",
      "execution_count": null,
      "metadata": {
        "id": "Yyevj4WPnBr7"
      },
      "outputs": [],
      "source": [
        "# Transform the matrix of features X into a multi array of features X_Columns\n",
        "# which contains the original features and their associated polynomial terms\n",
        "X_columns = poly_regressor.fit_transform(X_train)"
      ]
    },
    {
      "cell_type": "code",
      "execution_count": null,
      "metadata": {
        "id": "n-gBhRRbnBr8",
        "outputId": "da3f5e1e-3ba9-49e9-d0b0-62473a5f4e4c"
      },
      "outputs": [
        {
          "name": "stdout",
          "output_type": "stream",
          "text": [
            "[[1.00000000e+00 1.00000000e+00 1.00000000e+00 1.00000000e+00\n",
            "  1.00000000e+00]\n",
            " [1.00000000e+00 1.18599365e+00 1.40658094e+00 1.66819606e+00\n",
            "  1.97846993e+00]\n",
            " [1.00000000e+00 1.19149864e+00 1.41966901e+00 1.69153369e+00\n",
            "  2.01546010e+00]\n",
            " ...\n",
            " [1.00000000e+00 8.78088812e+00 7.71039962e+01 6.77041565e+02\n",
            "  5.94502623e+03]\n",
            " [1.00000000e+00 8.89769971e+00 7.91690601e+01 7.04422522e+02\n",
            "  6.26774007e+03]\n",
            " [1.00000000e+00 1.00000000e+01 1.00000000e+02 1.00000000e+03\n",
            "  1.00000000e+04]]\n"
          ]
        }
      ],
      "source": [
        "print(X_columns)"
      ]
    },
    {
      "cell_type": "code",
      "execution_count": null,
      "metadata": {
        "id": "TgqLhKfgnBr8",
        "outputId": "7dc23acf-8606-48e0-f8e4-fe946ba1764f"
      },
      "outputs": [
        {
          "data": {
            "text/plain": [
              "LinearRegression(copy_X=True, fit_intercept=True, n_jobs=1, normalize=False)"
            ]
          },
          "execution_count": 22,
          "metadata": {},
          "output_type": "execute_result"
        }
      ],
      "source": [
        "regressor = LinearRegression()\n",
        "regressor.fit(X_columns, y_train)"
      ]
    },
    {
      "cell_type": "code",
      "execution_count": null,
      "metadata": {
        "id": "hM1nsDjgnBr8",
        "outputId": "dc9ed73b-1f9b-4b67-cf00-d5ba4683c266"
      },
      "outputs": [
        {
          "name": "stdout",
          "output_type": "stream",
          "text": [
            "Linear Model Coefficient (m):  [ 0.00000000e+00 -5.43308190e+01  1.22452385e+01 -1.29910949e+00\n",
            "  5.12914120e-02]\n",
            "Linear Model Coefficient (b):  131.71715953602728\n"
          ]
        }
      ],
      "source": [
        "print('Linear Model Coefficient (m): ', regressor.coef_)\n",
        "print('Linear Model Coefficient (b): ', regressor.intercept_)"
      ]
    },
    {
      "cell_type": "markdown",
      "metadata": {
        "id": "4ujgYJcxnBr9"
      },
      "source": [
        "# STEP#6: VISUALIZE THE RESULTS"
      ]
    },
    {
      "cell_type": "code",
      "execution_count": null,
      "metadata": {
        "id": "oYqmtSn-nBr9",
        "outputId": "3d8e17c4-973a-4704-acf6-5101c896b2a1"
      },
      "outputs": [
        {
          "data": {
            "text/plain": [
              "(1000, 1)"
            ]
          },
          "execution_count": 24,
          "metadata": {},
          "output_type": "execute_result"
        }
      ],
      "source": [
        "X_train.shape"
      ]
    },
    {
      "cell_type": "code",
      "execution_count": null,
      "metadata": {
        "id": "tPSDvXBonBr9"
      },
      "outputs": [],
      "source": [
        "y_predict = regressor.predict(poly_regressor.fit_transform(X_train))"
      ]
    },
    {
      "cell_type": "code",
      "execution_count": null,
      "metadata": {
        "id": "mImNTYoUnBr9",
        "outputId": "e376067b-4810-4295-f148-3a7808239edb"
      },
      "outputs": [
        {
          "data": {
            "text/plain": [
              "(1000,)"
            ]
          },
          "execution_count": 26,
          "metadata": {},
          "output_type": "execute_result"
        }
      ],
      "source": [
        "y_predict.shape"
      ]
    },
    {
      "cell_type": "code",
      "execution_count": null,
      "metadata": {
        "id": "v_x_hauQnBsD",
        "outputId": "df0508c0-fb0a-483b-e05e-1e783d7620eb"
      },
      "outputs": [
        {
          "data": {
            "text/plain": [
              "Text(0.5,1,'Unit Cost vs. Number of Units [in Millions](Training dataset)')"
            ]
          },
          "execution_count": 27,
          "metadata": {},
          "output_type": "execute_result"
        },
        {
          "data": {
            "image/png": "[encoded data removed]",
            "text/plain": [
              "<Figure size 432x288 with 1 Axes>"
            ]
          },
          "metadata": {},
          "output_type": "display_data"
        }
      ],
      "source": [
        "plt.scatter(X_train, y_train, color = 'red')\n",
        "plt.plot(X_train, y_predict, color = 'blue')\n",
        "plt.ylabel('Cost Per Unit Sold [dollars]')\n",
        "plt.xlabel('Number of Units [in Millions]')\n",
        "plt.title('Unit Cost vs. Number of Units [in Millions](Training dataset)')"
      ]
    },
    {
      "cell_type": "code",
      "execution_count": null,
      "metadata": {
        "id": "OAxqMG0anBsD"
      },
      "outputs": [],
      "source": []
    }
  ],
  "metadata": {
    "colab": {
      "provenance": []
    },
    "kernelspec": {
      "display_name": "Python 3",
      "language": "python",
      "name": "python3"
    },
    "language_info": {
      "codemirror_mode": {
        "name": "ipython",
        "version": 3
      },
      "file_extension": ".py",
      "mimetype": "text/x-python",
      "name": "python",
      "nbconvert_exporter": "python",
      "pygments_lexer": "ipython3",
      "version": "3.6.5"
    }
  },
  "nbformat": 4,
  "nbformat_minor": 0
}
